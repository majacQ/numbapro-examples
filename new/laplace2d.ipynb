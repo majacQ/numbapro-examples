{
 "cells": [
  {
   "cell_type": "markdown",
   "metadata": {},
   "source": [
    "# Solving Laplace 2D with Jacobi Relaxation\n",
    "\n",
    "Demonstrated Features:\n",
    "* Numba JIT\n",
    "* Numba CUDA JIT"
   ]
  },
  {
   "cell_type": "code",
   "execution_count": 1,
   "metadata": {
    "collapsed": false
   },
   "outputs": [],
   "source": [
    "from __future__ import print_function\n",
    "\n",
    "import sys\n",
    "import datetime\n",
    "from timeit import default_timer as timer\n",
    "import numpy as np\n",
    "\n",
    "import numba\n",
    "from numba import cuda, jit, float32"
   ]
  },
  {
   "cell_type": "markdown",
   "metadata": {},
   "source": [
    "**Version information:**"
   ]
  },
  {
   "cell_type": "code",
   "execution_count": 2,
   "metadata": {
    "collapsed": false
   },
   "outputs": [
    {
     "name": "stdout",
     "output_type": "stream",
     "text": [
      "This file is generated on: 2015-06-16 11:43:56.716754\n",
      "python: 3.4\n",
      "numpy: 1.9.2\n",
      "numba: 0.19.1\n",
      "CUDA GPU:"
     ]
    },
    {
     "name": "stdout",
     "output_type": "stream",
     "text": [
      " b'GeForce GT 650M'\n"
     ]
    }
   ],
   "source": [
    "print(\"This file is generated on:\", datetime.datetime.now())\n",
    "print(\"python: {0}.{1}\".format(*sys.version_info[:2]))\n",
    "print(\"numpy:\", np.__version__)\n",
    "print(\"numba:\", numba.__version__)\n",
    "print(\"CUDA GPU:\", cuda.gpus[0].name)"
   ]
  },
  {
   "cell_type": "markdown",
   "metadata": {},
   "source": [
    "## NumPy CPU Jacobi Relaxation"
   ]
  },
  {
   "cell_type": "code",
   "execution_count": 3,
   "metadata": {
    "collapsed": false
   },
   "outputs": [],
   "source": [
    "def numpy_jacobi_core(A, Anew):\n",
    "    error = 0.0\n",
    "    n = A.shape[0]\n",
    "    m = A.shape[1]\n",
    "\n",
    "    for j in range(1, n - 1):\n",
    "        for i in range(1, m - 1):\n",
    "            Anew[j, i] = 0.25 * (A[j, i + 1] + A[j, i - 1]\\\n",
    "                                 + A[j - 1, i] + A[j + 1, i])\n",
    "            error = max(error, abs(Anew[j, i] - A[j, i]))\n",
    "    return error"
   ]
  },
  {
   "cell_type": "markdown",
   "metadata": {},
   "source": [
    "The CPU driver"
   ]
  },
  {
   "cell_type": "code",
   "execution_count": 4,
   "metadata": {
    "collapsed": false
   },
   "outputs": [],
   "source": [
    "def cpu_driver(corefn, NN, NM):\n",
    "    A = np.zeros((NN, NM), dtype=np.float32)\n",
    "    Anew = np.zeros((NN, NM), dtype=np.float32)\n",
    "\n",
    "    n = NN\n",
    "    m = NM\n",
    "    iter_max = 1000\n",
    "\n",
    "    tol = 1.0e-6\n",
    "    error = 1.0\n",
    "\n",
    "    for j in range(n):\n",
    "        A[j, 0] = 1.0\n",
    "        Anew[j, 0] = 1.0\n",
    "\n",
    "    print(\"Jacobi relaxation Calculation: {0} x {1} mesh\".format(n, m))\n",
    "\n",
    "    ts = timer()\n",
    "    iter = 0\n",
    "\n",
    "    while error > tol and iter < iter_max:\n",
    "        error = corefn(A, Anew)\n",
    "\n",
    "        # swap A and Anew\n",
    "        tmp = A\n",
    "        A = Anew\n",
    "        Anew = tmp\n",
    "\n",
    "        if iter % 100 == 0:\n",
    "            print(\"{0:5}, {1:.6f} (elapsed: {2} s)\".format(iter, error,\n",
    "                                                           timer() - ts))\n",
    "\n",
    "        iter += 1\n",
    "\n",
    "    runtime = timer() - ts\n",
    "    print(\" total: {0} s\".format(runtime))\n",
    "    return runtime"
   ]
  },
  {
   "cell_type": "markdown",
   "metadata": {},
   "source": [
    "Test NumPy Version"
   ]
  },
  {
   "cell_type": "code",
   "execution_count": 5,
   "metadata": {
    "collapsed": false
   },
   "outputs": [
    {
     "name": "stdout",
     "output_type": "stream",
     "text": [
      "Jacobi relaxation Calculation: 64 x 64 mesh\n",
      "    0, 0.250000 (elapsed: 0.02267905000189785 s)\n",
      "  100, 0.002397 (elapsed: 2.185392988001695 s)"
     ]
    },
    {
     "name": "stdout",
     "output_type": "stream",
     "text": [
      "\n",
      "  200, 0.001200 (elapsed: 4.347076375001052 s)"
     ]
    },
    {
     "name": "stdout",
     "output_type": "stream",
     "text": [
      "\n",
      "  300, 0.000787 (elapsed: 6.501959881999937 s)"
     ]
    },
    {
     "name": "stdout",
     "output_type": "stream",
     "text": [
      "\n",
      "  400, 0.000572 (elapsed: 8.713625394004339 s)"
     ]
    },
    {
     "name": "stdout",
     "output_type": "stream",
     "text": [
      "\n",
      "  500, 0.000438 (elapsed: 10.876788145003957 s)"
     ]
    },
    {
     "name": "stdout",
     "output_type": "stream",
     "text": [
      "\n",
      "  600, 0.000347 (elapsed: 13.036507005999738 s)"
     ]
    },
    {
     "name": "stdout",
     "output_type": "stream",
     "text": [
      "\n",
      "  700, 0.000281 (elapsed: 15.211733526004537 s)"
     ]
    },
    {
     "name": "stdout",
     "output_type": "stream",
     "text": [
      "\n",
      "  800, 0.000232 (elapsed: 17.366102234002028 s)"
     ]
    },
    {
     "name": "stdout",
     "output_type": "stream",
     "text": [
      "\n",
      "  900, 0.000194 (elapsed: 19.524175711005228 s)"
     ]
    },
    {
     "name": "stdout",
     "output_type": "stream",
     "text": [
      "\n",
      " total: 21.66799174400512 s"
     ]
    },
    {
     "name": "stdout",
     "output_type": "stream",
     "text": [
      "\n"
     ]
    }
   ],
   "source": [
    "numpy_runtime = cpu_driver(numpy_jacobi_core, 64, 64)"
   ]
  },
  {
   "cell_type": "markdown",
   "metadata": {},
   "source": [
    "## Numba JIT version\n",
    "\n",
    "Compile"
   ]
  },
  {
   "cell_type": "code",
   "execution_count": 6,
   "metadata": {
    "collapsed": false
   },
   "outputs": [],
   "source": [
    "numba_jacobi_core = jit(numpy_jacobi_core)"
   ]
  },
  {
   "cell_type": "markdown",
   "metadata": {},
   "source": [
    "Test Numba Version"
   ]
  },
  {
   "cell_type": "code",
   "execution_count": 7,
   "metadata": {
    "collapsed": false
   },
   "outputs": [
    {
     "name": "stdout",
     "output_type": "stream",
     "text": [
      "Jacobi relaxation Calculation: 64 x 64 mesh\n",
      "    0, 0.250000 (elapsed: 0.1427415700018173 s)"
     ]
    },
    {
     "name": "stdout",
     "output_type": "stream",
     "text": [
      "\n",
      "  100, 0.002397 (elapsed: 0.14442227900144644 s)\n",
      "  200, 0.001200 (elapsed: 0.14569278900307836 s)\n",
      "  300, 0.000787 (elapsed: 0.14693187200464308 s)\n",
      "  400, 0.000572 (elapsed: 0.1482159990046057 s)\n",
      "  500, 0.000438 (elapsed: 0.1494935400041868 s)\n",
      "  600, 0.000347 (elapsed: 0.15081829200062202 s)\n",
      "  700, 0.000281 (elapsed: 0.1520894409986795 s)\n",
      "  800, 0.000232 (elapsed: 0.15335777099971892 s)\n",
      "  900, 0.000194 (elapsed: 0.15460888600500766 s)\n",
      " total: 0.1558390389982378 s\n"
     ]
    }
   ],
   "source": [
    "numba_runtime = cpu_driver(numba_jacobi_core, 64, 64)"
   ]
  },
  {
   "cell_type": "markdown",
   "metadata": {},
   "source": [
    "Speedup: Numba vs NumPy"
   ]
  },
  {
   "cell_type": "code",
   "execution_count": 8,
   "metadata": {
    "collapsed": false
   },
   "outputs": [
    {
     "name": "stdout",
     "output_type": "stream",
     "text": [
      "Speedup 139.04084549860536x\n"
     ]
    }
   ],
   "source": [
    "print(\"Speedup {0}x\".format(numpy_runtime / numba_runtime))"
   ]
  },
  {
   "cell_type": "markdown",
   "metadata": {},
   "source": [
    "## CUDA Version"
   ]
  },
  {
   "cell_type": "code",
   "execution_count": 9,
   "metadata": {
    "collapsed": false
   },
   "outputs": [],
   "source": [
    "tpb = 16\n",
    "\n",
    "\n",
    "@cuda.jit\n",
    "def cuda_jacobi_core(A, Anew, error):\n",
    "    err_sm = cuda.shared.array((tpb, tpb), dtype=float32)\n",
    "\n",
    "    ty = cuda.threadIdx.x\n",
    "    tx = cuda.threadIdx.y\n",
    "    bx = cuda.blockIdx.x\n",
    "    by = cuda.blockIdx.y\n",
    "\n",
    "    n = A.shape[0]\n",
    "    m = A.shape[1]\n",
    "\n",
    "    i, j = cuda.grid(2)\n",
    "\n",
    "    err_sm[ty, tx] = 0\n",
    "    if j >= 1 and j < n - 1 and i >= 1 and i < m - 1:\n",
    "        Anew[j, i] = 0.25 * (A[j, i + 1] + A[j, i - 1]\\\n",
    "                             + A[j - 1, i] + A[j + 1, i])\n",
    "        err_sm[ty, tx] = Anew[j, i] - A[j, i]\n",
    "\n",
    "    cuda.syncthreads()\n",
    "\n",
    "    # max-reduce err_sm vertically\n",
    "    t = tpb // 2\n",
    "    while t > 0:\n",
    "        if ty < t:\n",
    "            err_sm[ty, tx] = max(err_sm[ty, tx], err_sm[ty + t, tx])\n",
    "        t //= 2\n",
    "        cuda.syncthreads()\n",
    "\n",
    "    # max-reduce err_sm horizontally\n",
    "    t = tpb // 2\n",
    "    while t > 0:\n",
    "        if tx < t and ty == 0:\n",
    "            err_sm[ty, tx] = max(err_sm[ty, tx], err_sm[ty, tx + t])\n",
    "        t //= 2\n",
    "        cuda.syncthreads()\n",
    "\n",
    "    if tx == 0 and ty == 0:\n",
    "        error[by, bx] = err_sm[0, 0]"
   ]
  },
  {
   "cell_type": "markdown",
   "metadata": {},
   "source": [
    "A GPU driver"
   ]
  },
  {
   "cell_type": "code",
   "execution_count": 10,
   "metadata": {
    "collapsed": false
   },
   "outputs": [],
   "source": [
    "def gpu_driver(gpucorefn, NN, NM):\n",
    "    A = np.zeros((NN, NM), dtype=np.float32)\n",
    "    Anew = np.zeros((NN, NM), dtype=np.float32)\n",
    "\n",
    "    n = NN\n",
    "    m = NM\n",
    "    iter_max = 1000\n",
    "\n",
    "    tol = 1.0e-6\n",
    "    error = 1.0\n",
    "\n",
    "    for j in range(n):\n",
    "        A[j, 0] = 1.0\n",
    "        Anew[j, 0] = 1.0\n",
    "\n",
    "    print(\"Jacobi relaxation Calculation: {0} x {1} mesh\".format(n, m))\n",
    "\n",
    "    ts = timer()\n",
    "    iter = 0\n",
    "\n",
    "    blockdim = (tpb, tpb)\n",
    "    griddim = (NN // blockdim[0], NM // blockdim[1])\n",
    "\n",
    "    error_grid = np.zeros(griddim, dtype=np.float32)\n",
    "\n",
    "    stream = cuda.stream()\n",
    "\n",
    "    dA = cuda.to_device(A, stream)  # to device and don't come back\n",
    "    dAnew = cuda.to_device(Anew, stream)  # to device and don't come back\n",
    "    derror_grid = cuda.to_device(error_grid, stream)\n",
    "\n",
    "    while error > tol and iter < iter_max:\n",
    "        gpucorefn[griddim, blockdim, stream](dA, dAnew, derror_grid)\n",
    "\n",
    "        derror_grid.to_host(stream)\n",
    "\n",
    "        # error_grid is available on host\n",
    "        stream.synchronize()\n",
    "\n",
    "        error = np.abs(error_grid).max()\n",
    "\n",
    "        # swap dA and dAnew\n",
    "        dA, dAnew = dAnew, dA\n",
    "\n",
    "        if iter % 100 == 0:\n",
    "            print(\"{0:5}, {1:.6f} (elapsed: {2} s)\".format(iter, error,\n",
    "                                                           timer() - ts))\n",
    "\n",
    "        iter += 1\n",
    "\n",
    "    runtime = timer() - ts\n",
    "    print(\" total: {0} s\".format(runtime))\n",
    "    return runtime"
   ]
  },
  {
   "cell_type": "markdown",
   "metadata": {},
   "source": [
    "Test CUDA Version"
   ]
  },
  {
   "cell_type": "code",
   "execution_count": 11,
   "metadata": {
    "collapsed": false
   },
   "outputs": [
    {
     "name": "stdout",
     "output_type": "stream",
     "text": [
      "Jacobi relaxation Calculation: 64 x 64 mesh\n",
      "    0, 0.250000 (elapsed: 0.28116051699907985 s)"
     ]
    },
    {
     "name": "stdout",
     "output_type": "stream",
     "text": [
      "\n",
      "  100, 0.002397 (elapsed: 0.32280807699862635 s)\n",
      "  200, 0.001200 (elapsed: 0.3682405319996178 s)"
     ]
    },
    {
     "name": "stdout",
     "output_type": "stream",
     "text": [
      "\n",
      "  300, 0.000787 (elapsed: 0.41064688799815485 s)\n",
      "  400, 0.000572 (elapsed: 0.4532004499997129 s)"
     ]
    },
    {
     "name": "stdout",
     "output_type": "stream",
     "text": [
      "\n",
      "  500, 0.000438 (elapsed: 0.4969270589936059 s)\n",
      "  600, 0.000347 (elapsed: 0.5391925719959545 s)"
     ]
    },
    {
     "name": "stdout",
     "output_type": "stream",
     "text": [
      "\n",
      "  700, 0.000281 (elapsed: 0.5853668849958922 s)\n",
      "  800, 0.000232 (elapsed: 0.6272580579970963 s)"
     ]
    },
    {
     "name": "stdout",
     "output_type": "stream",
     "text": [
      "\n",
      "  900, 0.000194 (elapsed: 0.6734871569933603 s)\n",
      " total: 0.7148610209987964 s"
     ]
    },
    {
     "name": "stdout",
     "output_type": "stream",
     "text": [
      "\n"
     ]
    },
    {
     "data": {
      "text/plain": [
       "0.7148610209987964"
      ]
     },
     "execution_count": 11,
     "metadata": {},
     "output_type": "execute_result"
    }
   ],
   "source": [
    "gpu_driver(cuda_jacobi_core, 64, 64)"
   ]
  },
  {
   "cell_type": "markdown",
   "metadata": {},
   "source": [
    "Testing on Large Mesh"
   ]
  },
  {
   "cell_type": "code",
   "execution_count": 12,
   "metadata": {
    "collapsed": false
   },
   "outputs": [
    {
     "name": "stdout",
     "output_type": "stream",
     "text": [
      "Numba CPU:\n",
      "Jacobi relaxation Calculation: 2048 x 2048 mesh\n",
      "    0, 0.250000 (elapsed: 0.021132284004124813 s)\n",
      "  100, 0.002397 (elapsed: 1.3484935230007977 s)"
     ]
    },
    {
     "name": "stdout",
     "output_type": "stream",
     "text": [
      "\n",
      "  200, 0.001204 (elapsed: 2.8060648850005236 s)"
     ]
    },
    {
     "name": "stdout",
     "output_type": "stream",
     "text": [
      "\n",
      "  300, 0.000804 (elapsed: 4.3356426500031375 s)"
     ]
    },
    {
     "name": "stdout",
     "output_type": "stream",
     "text": [
      "\n",
      "  400, 0.000603 (elapsed: 5.932732396999199 s)"
     ]
    },
    {
     "name": "stdout",
     "output_type": "stream",
     "text": [
      "\n",
      "  500, 0.000483 (elapsed: 7.556703613001446 s)"
     ]
    },
    {
     "name": "stdout",
     "output_type": "stream",
     "text": [
      "\n",
      "  600, 0.000403 (elapsed: 9.226608340999519 s)"
     ]
    },
    {
     "name": "stdout",
     "output_type": "stream",
     "text": [
      "\n",
      "  700, 0.000345 (elapsed: 10.926090904999 s)"
     ]
    },
    {
     "name": "stdout",
     "output_type": "stream",
     "text": [
      "\n",
      "  800, 0.000302 (elapsed: 12.684045941001386 s)"
     ]
    },
    {
     "name": "stdout",
     "output_type": "stream",
     "text": [
      "\n",
      "  900, 0.000269 (elapsed: 14.451204365002923 s)"
     ]
    },
    {
     "name": "stdout",
     "output_type": "stream",
     "text": [
      "\n",
      " total: 16.23804137999832 s"
     ]
    },
    {
     "name": "stdout",
     "output_type": "stream",
     "text": [
      "\n",
      "Numba CUDA:\n",
      "Jacobi relaxation Calculation: 2048 x 2048 mesh\n",
      "    0, 0.250000 (elapsed: 0.04800918700493639 s)"
     ]
    },
    {
     "name": "stdout",
     "output_type": "stream",
     "text": [
      "\n",
      "  100, 0.002397 (elapsed: 1.1009138860026724 s)"
     ]
    },
    {
     "name": "stdout",
     "output_type": "stream",
     "text": [
      "\n",
      "  200, 0.001204 (elapsed: 1.8688836530054687 s)"
     ]
    },
    {
     "name": "stdout",
     "output_type": "stream",
     "text": [
      "\n",
      "  300, 0.000804 (elapsed: 2.6022743200010154 s)"
     ]
    },
    {
     "name": "stdout",
     "output_type": "stream",
     "text": [
      "\n",
      "  400, 0.000603 (elapsed: 3.3305032380012562 s)"
     ]
    },
    {
     "name": "stdout",
     "output_type": "stream",
     "text": [
      "\n",
      "  500, 0.000483 (elapsed: 4.059567033000349 s)"
     ]
    },
    {
     "name": "stdout",
     "output_type": "stream",
     "text": [
      "\n",
      "  600, 0.000403 (elapsed: 4.791594811002142 s)"
     ]
    },
    {
     "name": "stdout",
     "output_type": "stream",
     "text": [
      "\n",
      "  700, 0.000345 (elapsed: 5.545042533005471 s)"
     ]
    },
    {
     "name": "stdout",
     "output_type": "stream",
     "text": [
      "\n",
      "  800, 0.000302 (elapsed: 6.274920510004449 s)"
     ]
    },
    {
     "name": "stdout",
     "output_type": "stream",
     "text": [
      "\n",
      "  900, 0.000269 (elapsed: 7.003125164002995 s)"
     ]
    },
    {
     "name": "stdout",
     "output_type": "stream",
     "text": [
      "\n",
      " total: 7.725429064004857 s"
     ]
    },
    {
     "name": "stdout",
     "output_type": "stream",
     "text": [
      "\n",
      "CUDA speedup: 2.101895085110073x\n"
     ]
    }
   ],
   "source": [
    "NN = NM = 2048\n",
    "print(\"Numba CPU:\")\n",
    "numba_runtime = cpu_driver(numba_jacobi_core, NN, NM)\n",
    "print(\"Numba CUDA:\")\n",
    "cuda_runtime = gpu_driver(cuda_jacobi_core, NN, NM)\n",
    "\n",
    "print(\"CUDA speedup: {0}x\".format(numba_runtime / cuda_runtime))"
   ]
  }
 ],
 "metadata": {},
 "nbformat": 4,
 "nbformat_minor": 0
}